{
 "cells": [
  {
   "cell_type": "markdown",
   "id": "eb0f59cc",
   "metadata": {},
   "source": [
    "# Introduction to Python and Jupyter\n",
    "\n"
   ]
  },
  {
   "cell_type": "markdown",
   "id": "34c8c4e3",
   "metadata": {},
   "source": [
    "## Using Jupter"
   ]
  },
  {
   "cell_type": "markdown",
   "id": "c71aab67",
   "metadata": {},
   "source": [
    "## Types and Printing"
   ]
  },
  {
   "cell_type": "markdown",
   "id": "18c16a77",
   "metadata": {},
   "source": [
    "## Mathematical Operations"
   ]
  },
  {
   "cell_type": "markdown",
   "id": "f4c6b94f",
   "metadata": {},
   "source": [
    "## Lists, Dictionaries, and numpy arrays"
   ]
  },
  {
   "cell_type": "markdown",
   "id": "a8c42a15",
   "metadata": {},
   "source": [
    "## Conditional Statements and Loops"
   ]
  },
  {
   "cell_type": "markdown",
   "id": "ea2b7d53",
   "metadata": {},
   "source": [
    "## Functions"
   ]
  },
  {
   "cell_type": "markdown",
   "id": "4f9c64fe",
   "metadata": {},
   "source": [
    "## Assignment\n",
    "\n",
    "Throughout this course, we will be writing python functions to perform a variety of tasks related to building machine learning models. Before we get to that, let's practice writing functions to perform a simple mathematical task, estimating $\\pi$.\n",
    "\n",
    "Your assignment is to write a numerical algorithm to calculate $\\pi$. Consider a 1x1 box with a circle inscribed,\n",
    "\n",
    "![alternative text](images/Circle-inscribed-in-a-square.jpg)\n",
    "\n",
    "where the bottom left corner is the point (0,0) and the top right point is (1,1). Assuming the radius of the circle is $r$, which in our example is 0.5, we can calculate $\\pi$ as the using the areas of the square and circle,\n",
    "\n",
    "$$\\frac{\\rm{area~of~circle}}{\\rm{area~of~square}} = \\frac{\\pi r^2}{(2r)^2}$$\n",
    "\n",
    "which rearranges to,\n",
    "$$\\pi = 4*\\frac{\\rm{area~of~circle}}{\\rm{area~of~square}} $$\n"
   ]
  },
  {
   "cell_type": "markdown",
   "id": "7be0a092",
   "metadata": {},
   "source": [
    "So how to we get these areas? This is the part we will do numerically. We can calculate the ratio of areas in a clever way:\n",
    "\n",
    " 1) First choose a number of random points to generate.\n",
    " 2) For each of these points, generate a random (x,y) point within our square (what are limits of x and y?).\n",
    " 3) Count how many of those random points also lie within the circle, let's call these 'hits'.\n",
    " 4) The ratio of areas is then just the number of hits divided by the total number of random points.\n",
    " \n",
    " \n",
    " **For your assignment, use the cell below to write a function to estimate the value of $\\pi$ given a maximum number of random points.**"
   ]
  },
  {
   "cell_type": "code",
   "execution_count": null,
   "id": "1415e340",
   "metadata": {},
   "outputs": [],
   "source": [
    "## Your code will go here. I'll help get you started with a few lines\n",
    "\n",
    "## First we need to import a library that calculates random numbers for us\n",
    "import random\n",
    "\n",
    "## Let's define a function for this, we'll want to be able to toggle the maximum random points\n",
    "def compute_pi(max_points):\n",
    "    ## "
   ]
  }
 ],
 "metadata": {
  "kernelspec": {
   "display_name": "Python 3 (ipykernel)",
   "language": "python",
   "name": "python3"
  },
  "language_info": {
   "codemirror_mode": {
    "name": "ipython",
    "version": 3
   },
   "file_extension": ".py",
   "mimetype": "text/x-python",
   "name": "python",
   "nbconvert_exporter": "python",
   "pygments_lexer": "ipython3",
   "version": "3.10.11"
  }
 },
 "nbformat": 4,
 "nbformat_minor": 5
}

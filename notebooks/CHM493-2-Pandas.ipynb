{
 "cells": [
  {
   "cell_type": "markdown",
   "id": "dfa1baa6",
   "metadata": {},
   "source": [
    "# Data Handling: Writing Files and Using Pandas\n",
    "\n",
    "At this point, you should feel somewhat comfortable with writing simple procedures using python in a jupyter notebook. In order to use these skills to analyze chemical problems, we'll need to be able to handle large amounts of data stored in files. In this notebook, you will be introduced to a few very helpful tools that we'll use for data hanldling."
   ]
  },
  {
   "cell_type": "markdown",
   "id": "186442c4",
   "metadata": {},
   "source": [
    "## File Writing and Reading\n",
    "\n",
    "Whether we create our own data computationally (or experimentally) or we use data from a chemical database, we'll need to be able to read and write files. Python has a way to natively do this. Let's say we want to write a list of molecules to a file,"
   ]
  },
  {
   "cell_type": "code",
   "execution_count": null,
   "id": "a7f622ab",
   "metadata": {},
   "outputs": [],
   "source": [
    "# Let's write a list of molecules\n",
    "molecules = ['amygdalin', 'fenfuram','estriadol','2-methylbutanol']\n",
    "\n",
    "# First we open a file. If it doesn't exist, it will create it.\n",
    "# Also, since this is raw text, we'll use a .txt extension\n",
    "with open('molecules.txt', 'w') as molfile:\n",
    "    \n",
    "    # the 'pythonic' way to do this is to use a function called `join`,\n",
    "    # which joins strings together with a common character.\n",
    "    # We'll use the new line character, so that each molecule name is\n",
    "    # written on a new line\n",
    "    \n",
    "    molfile.write('\\n'.join(molecules))"
   ]
  },
  {
   "cell_type": "markdown",
   "id": "794b0402",
   "metadata": {},
   "source": [
    "We can see that the file is now written as we want. \n",
    "\n",
    "A very important part of the above command is the `'w'` parameter. This stands for 'write', and it gives us permission to write to the file. If we know we only want to read a file, we use the `'r'` parameter, so that we're not at risk of editing a file we don't want to change.\n",
    "\n",
    "To read this file, we use the same command, but change the flag:"
   ]
  },
  {
   "cell_type": "code",
   "execution_count": null,
   "id": "67fdb8a4",
   "metadata": {},
   "outputs": [],
   "source": [
    "# Lets add the contents of the file to a list\n",
    "mols = []\n",
    "with open('molecules.txt', 'r') as infile:\n",
    "    infile = infile.readlines() # read the lines\n",
    "    for line in infile:\n",
    "        mols.append(line.strip())\n",
    "print(mols)"
   ]
  },
  {
   "cell_type": "markdown",
   "id": "954a3c68",
   "metadata": {},
   "source": [
    "The `strip()` command removes and whitespace or hidden commands, so that we just get the desired strings into our list."
   ]
  },
  {
   "cell_type": "markdown",
   "id": "f77d23b6",
   "metadata": {},
   "source": [
    "In the cell below, I'd like you to *append* a molecule to the end of this file, and then close the file. After, reopen the file, store the contents in a list, and print the list."
   ]
  },
  {
   "cell_type": "code",
   "execution_count": null,
   "id": "f81cd6fa",
   "metadata": {},
   "outputs": [],
   "source": []
  },
  {
   "cell_type": "markdown",
   "id": "6d724b52",
   "metadata": {},
   "source": [
    "## Using Pandas\n",
    "\n",
    "Pandas is an extremely useful too for handling data. In Pandas, data is stored in a spreadsheet-like object called a *data frame*. Data frames contain rows and columns. The rows are labeled by and index, which is just the number of the row, and the columns are labeled with specific text labels. Lets take a look at an example."
   ]
  },
  {
   "cell_type": "code",
   "execution_count": null,
   "id": "eba66314",
   "metadata": {},
   "outputs": [],
   "source": [
    "# First we need to import the library\n",
    "import pandas as pd\n",
    "\n",
    "# Next, let's download a large data set. This will be in .csv form,\n",
    "# and it contains solubility data for a number of molecules in water.\n",
    "!wget \"https://raw.githubusercontent.com/schwallergroup/ai4chem_course/main/notebooks/01%20-%20Basics/data/delaney-processed.csv\" "
   ]
  },
  {
   "cell_type": "markdown",
   "id": "5b81d926",
   "metadata": {},
   "source": [
    "To load the data into a Data Frame, we can call a function that handle's the .csv file type automatically,"
   ]
  },
  {
   "cell_type": "code",
   "execution_count": null,
   "id": "2ce577e5",
   "metadata": {},
   "outputs": [],
   "source": [
    "df = pd.read_csv('delaney-processed.csv')"
   ]
  },
  {
   "cell_type": "markdown",
   "id": "cbfeb1b4",
   "metadata": {},
   "source": [
    "Now that we've loaded the data, let's inspect its contents. First, we can just print the thing,"
   ]
  },
  {
   "cell_type": "code",
   "execution_count": null,
   "id": "a4e32c1a",
   "metadata": {},
   "outputs": [],
   "source": [
    "print(df)"
   ]
  },
  {
   "cell_type": "markdown",
   "id": "8976bbe5",
   "metadata": {},
   "source": [
    "We can see it has a lot of data, but its kind of hard to read due to its size. Let's print the columns to see what data is included"
   ]
  },
  {
   "cell_type": "code",
   "execution_count": null,
   "id": "9cbe86d5",
   "metadata": {},
   "outputs": [],
   "source": [
    "print(df.columns)"
   ]
  },
  {
   "cell_type": "markdown",
   "id": "831ba2c2",
   "metadata": {},
   "source": [
    "We see that there are ten items, all to do with identifying and characterizing each molecule. We can print a specific column using the same notation as python dictionaries. Let's print the measured solubilities."
   ]
  },
  {
   "cell_type": "code",
   "execution_count": null,
   "id": "f1caee67",
   "metadata": {},
   "outputs": [],
   "source": [
    "print(df['measured log solubility in mols per litre'])"
   ]
  },
  {
   "cell_type": "markdown",
   "id": "bb30c450",
   "metadata": {},
   "source": [
    "We can sort our data frame by any of the columns we chose, not just the index. Let's sort these based on the solubilities."
   ]
  },
  {
   "cell_type": "code",
   "execution_count": null,
   "id": "5c3b99a2",
   "metadata": {},
   "outputs": [],
   "source": [
    "print(df.sort_values('measured log solubility in mols per litre', ascending=False).head())\n"
   ]
  },
  {
   "cell_type": "markdown",
   "id": "d35095af",
   "metadata": {},
   "source": [
    "Using the `head()` command only prints the first five molecules.\n",
    "\n",
    "For columns with numerical values, we can easily compute the average value using the `mean()` command,"
   ]
  },
  {
   "cell_type": "code",
   "execution_count": null,
   "id": "b360c1df",
   "metadata": {},
   "outputs": [],
   "source": [
    "print(df['measured log solubility in mols per litre'].mean())"
   ]
  },
  {
   "cell_type": "markdown",
   "id": "7dab2296",
   "metadata": {},
   "source": [
    "To add a column, we use the same notation as a python dictionary. Note that adding a column in this way sets the same value for all items. Let's add a column to track if the molecule's solubility is greater or less than the average."
   ]
  },
  {
   "cell_type": "code",
   "execution_count": null,
   "id": "91252609",
   "metadata": {},
   "outputs": [],
   "source": [
    "# First we'll add a column, and set everything to 'low'\n",
    "\n",
    "df[\"solubility class\"] = \"low\"\n",
    "\n",
    "# Then, let's store the mean solubility\n",
    "mean_solubility = df['measured log solubility in mols per litre'].mean()"
   ]
  },
  {
   "cell_type": "markdown",
   "id": "7bfb9504",
   "metadata": {},
   "source": [
    "Now we need to change the \"low\" elements to \"high\" by compairing their solubility to the mean. To do this, we'll use the `loc` command, which locates an item (or items) based on column values. Our strategy will be to use this function to locate molecules with solubilities higher than the mean, then we'll update the label accordingly."
   ]
  },
  {
   "cell_type": "code",
   "execution_count": null,
   "id": "e19c2454",
   "metadata": {},
   "outputs": [],
   "source": [
    "df.loc[df[\"measured log solubility in mols per litre\"] > mean_solubility, \"solubility class\"] = \"high\"\n",
    "print(df.head())"
   ]
  },
  {
   "cell_type": "markdown",
   "id": "ff39f24d",
   "metadata": {},
   "source": [
    "The `loc` command is powerful, but it can be confusing.\n",
    "\n",
    "We can easily make a scatter plot of any two columns, so that we can observe any correlations between the variables. Play around with the x and y variables. Do any of our variables appear correlated?"
   ]
  },
  {
   "cell_type": "code",
   "execution_count": null,
   "id": "f432a70a",
   "metadata": {},
   "outputs": [],
   "source": [
    "import matplotlib\n",
    "import matplotlib.pyplot as plt\n",
    "\n",
    "x_var =\n",
    "y_var = \n",
    "\n",
    "plt.plot(x_var, y_var, marker='.',linestyle='')"
   ]
  },
  {
   "cell_type": "markdown",
   "id": "8774a2d4",
   "metadata": {},
   "source": [
    "## Assignment\n",
    "\n",
    "To end this notebook, we're going to do a little data mining. I'll ask a few questions about the dataset, and use the cell below to find and print an answer."
   ]
  },
  {
   "cell_type": "markdown",
   "id": "0aff6d23",
   "metadata": {},
   "source": [
    "1. How many molecules in our set have more than zero H-bond donors?"
   ]
  },
  {
   "cell_type": "code",
   "execution_count": null,
   "id": "9ca0f152",
   "metadata": {},
   "outputs": [],
   "source": []
  },
  {
   "cell_type": "markdown",
   "id": "7bdd31b8",
   "metadata": {},
   "source": [
    "2. Of this set, how many have above-average solubility? How many have below-average solubility? Does this result make sense to you?"
   ]
  },
  {
   "cell_type": "code",
   "execution_count": null,
   "id": "d6434095",
   "metadata": {},
   "outputs": [],
   "source": []
  },
  {
   "cell_type": "markdown",
   "id": "d238332e",
   "metadata": {},
   "source": [
    "3. What is the average polar surface area? How many molecules have above- and below- average polar surface area?"
   ]
  },
  {
   "cell_type": "code",
   "execution_count": null,
   "id": "ff902fce",
   "metadata": {},
   "outputs": [],
   "source": []
  },
  {
   "cell_type": "markdown",
   "id": "5350ce8e",
   "metadata": {},
   "source": [
    "4. What percentage of the molecules with above-average polar surface area also have above average solubility?"
   ]
  },
  {
   "cell_type": "code",
   "execution_count": null,
   "id": "3aec189a",
   "metadata": {},
   "outputs": [],
   "source": []
  }
 ],
 "metadata": {
  "kernelspec": {
   "display_name": "Python 3 (ipykernel)",
   "language": "python",
   "name": "python3"
  },
  "language_info": {
   "codemirror_mode": {
    "name": "ipython",
    "version": 3
   },
   "file_extension": ".py",
   "mimetype": "text/x-python",
   "name": "python",
   "nbconvert_exporter": "python",
   "pygments_lexer": "ipython3",
   "version": "3.10.11"
  }
 },
 "nbformat": 4,
 "nbformat_minor": 5
}

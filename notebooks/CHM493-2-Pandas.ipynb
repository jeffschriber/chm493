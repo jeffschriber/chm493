{
 "cells": [
  {
   "cell_type": "markdown",
   "id": "dfa1baa6",
   "metadata": {},
   "source": [
    "# Data Handling: Writing Files and Using Pandas\n",
    "\n",
    "At this point, you should feel somewhat comfortable with writing simple procedures using python in a jupyter notebook. In order to use these skills to analyze chemical problems, we'll need to be able to handle large amounts of data stored in files. In this notebook, you will be introduced to a few very helpful tools that we'll use for data hanldling."
   ]
  },
  {
   "cell_type": "markdown",
   "id": "186442c4",
   "metadata": {},
   "source": [
    "## File Writing and Reading\n",
    "\n",
    "Whether we create our own data computationally (or experimentally) or we use data from a chemical database, we'll need to be able to read and write files. Python has a way to natively do this. Let's say we want to write a list of molecules to a file,"
   ]
  },
  {
   "cell_type": "code",
   "execution_count": 2,
   "id": "a7f622ab",
   "metadata": {},
   "outputs": [],
   "source": [
    "# Let's write a list of molecules\n",
    "molecules = ['amygdalin', 'fenfuram','estriadol','2-methylbutanol']\n",
    "\n",
    "# First we open a file. If it doesn't exist, it will create it.\n",
    "# Also, since this is raw text, we'll use a .txt extension\n",
    "with open('molecules.txt', 'w') as molfile:\n",
    "    \n",
    "    # the 'pythonic' way to do this is to use a function called `join`,\n",
    "    # which joins strings together with a common character.\n",
    "    # We'll use the new line character, so that each molecule name is\n",
    "    # written on a new line\n",
    "    \n",
    "    molfile.write('\\n'.join(molecules))"
   ]
  },
  {
   "cell_type": "markdown",
   "id": "794b0402",
   "metadata": {},
   "source": [
    "We can see that the file is now written as we want. \n",
    "\n",
    "A very important part of the above command is the `'w'` parameter. This stands for 'write', and it gives us permission to write to the file. If we know we only want to read a file, we use the `'r'` parameter, so that we're not at risk of editing a file we don't want to change.\n",
    "\n",
    "To read this file, we use the same command, but change the flag:"
   ]
  },
  {
   "cell_type": "code",
   "execution_count": 3,
   "id": "67fdb8a4",
   "metadata": {},
   "outputs": [
    {
     "name": "stdout",
     "output_type": "stream",
     "text": [
      "['amygdalin', 'fenfuram', 'estriadol', '2-methylbutanol']\n"
     ]
    }
   ],
   "source": [
    "# Lets add the contents of the file to a list\n",
    "mols = []\n",
    "with open('molecules.txt', 'r') as infile:\n",
    "    infile = infile.readlines() # read the lines\n",
    "    for line in infile:\n",
    "        mols.append(line.strip())\n",
    "print(mols)"
   ]
  },
  {
   "cell_type": "markdown",
   "id": "954a3c68",
   "metadata": {},
   "source": [
    "The `strip()` command removes and whitespace or hidden commands, so that we just get the desired strings into our list."
   ]
  },
  {
   "cell_type": "markdown",
   "id": "f77d23b6",
   "metadata": {},
   "source": [
    "In the cell below, I'd like you to *append* a molecule to the end of this file, and then close the file. After, reopen the file, store the contents in a list, and print the list."
   ]
  },
  {
   "cell_type": "code",
   "execution_count": null,
   "id": "f81cd6fa",
   "metadata": {},
   "outputs": [],
   "source": []
  },
  {
   "cell_type": "markdown",
   "id": "6d724b52",
   "metadata": {},
   "source": [
    "## Using Pandas\n",
    "\n",
    "Pandas is an extremely useful too for handling data. In Pandas, data is stored in a spreadsheet-like object called a *data frame*. Data frames contain rows and columns. The rows are labeled by and index, which is just the number of the row, and the columns are labeled with specific text labels. Lets take a look at an example."
   ]
  },
  {
   "cell_type": "code",
   "execution_count": 1,
   "id": "eba66314",
   "metadata": {},
   "outputs": [
    {
     "name": "stdout",
     "output_type": "stream",
     "text": [
      "--2023-08-24 16:12:50--  https://raw.githubusercontent.com/schwallergroup/ai4chem_course/main/notebooks/01%20-%20Basics/data/delaney-processed.csv\r\n",
      "Resolving raw.githubusercontent.com (raw.githubusercontent.com)... 185.199.108.133, 185.199.111.133, 185.199.110.133, ...\r\n",
      "Connecting to raw.githubusercontent.com (raw.githubusercontent.com)|185.199.108.133|:443... connected.\r\n",
      "HTTP request sent, awaiting response... 200 OK\r\n",
      "Length: 96698 (94K) [text/plain]\r\n",
      "Saving to: ‘delaney-processed.csv.3’\r\n",
      "\r\n",
      "\r",
      "delaney-processed.c   0%[                    ]       0  --.-KB/s               \r",
      "delaney-processed.c 100%[===================>]  94.43K  --.-KB/s    in 0.01s   \r\n",
      "\r\n",
      "2023-08-24 16:12:50 (8.30 MB/s) - ‘delaney-processed.csv.3’ saved [96698/96698]\r\n",
      "\r\n"
     ]
    }
   ],
   "source": [
    "# First we need to import the library\n",
    "import pandas as pd\n",
    "\n",
    "# Next, let's download a large data set. This will be in .csv form,\n",
    "# and it contains solubility data for a number of molecules in water.\n",
    "!wget \"https://raw.githubusercontent.com/schwallergroup/ai4chem_course/main/notebooks/01%20-%20Basics/data/delaney-processed.csv\" "
   ]
  },
  {
   "cell_type": "markdown",
   "id": "5b81d926",
   "metadata": {},
   "source": [
    "To load the data into a Data Frame, we can call a function that handle's the .csv file type automatically,"
   ]
  },
  {
   "cell_type": "code",
   "execution_count": 3,
   "id": "2ce577e5",
   "metadata": {},
   "outputs": [],
   "source": [
    "df = pd.read_csv('delaney-processed.csv')"
   ]
  },
  {
   "cell_type": "markdown",
   "id": "cbfeb1b4",
   "metadata": {},
   "source": [
    "Now that we've loaded the data, let's inspect its contents. First, we can just print the thing,"
   ]
  },
  {
   "cell_type": "code",
   "execution_count": 8,
   "id": "a4e32c1a",
   "metadata": {},
   "outputs": [
    {
     "name": "stdout",
     "output_type": "stream",
     "text": [
      "         Compound ID  ESOL predicted log solubility in mols per litre   \n",
      "0          Amigdalin                                           -0.974  \\\n",
      "1           Fenfuram                                           -2.885   \n",
      "2             citral                                           -2.579   \n",
      "3             Picene                                           -6.618   \n",
      "4          Thiophene                                           -2.232   \n",
      "...              ...                                              ...   \n",
      "1123       halothane                                           -2.608   \n",
      "1124          Oxamyl                                           -0.908   \n",
      "1125       Thiometon                                           -3.323   \n",
      "1126  2-Methylbutane                                           -2.245   \n",
      "1127        Stirofos                                           -4.320   \n",
      "\n",
      "      Minimum Degree  Molecular Weight  Number of H-Bond Donors   \n",
      "0                  1           457.432                        7  \\\n",
      "1                  1           201.225                        1   \n",
      "2                  1           152.237                        0   \n",
      "3                  2           278.354                        0   \n",
      "4                  2            84.143                        0   \n",
      "...              ...               ...                      ...   \n",
      "1123               1           197.381                        0   \n",
      "1124               1           219.266                        1   \n",
      "1125               1           246.359                        0   \n",
      "1126               1            72.151                        0   \n",
      "1127               1           365.964                        0   \n",
      "\n",
      "      Number of Rings  Number of Rotatable Bonds  Polar Surface Area   \n",
      "0                   3                          7              202.32  \\\n",
      "1                   2                          2               42.24   \n",
      "2                   0                          4               17.07   \n",
      "3                   5                          0                0.00   \n",
      "4                   1                          0                0.00   \n",
      "...               ...                        ...                 ...   \n",
      "1123                0                          0                0.00   \n",
      "1124                0                          1               71.00   \n",
      "1125                0                          7               18.46   \n",
      "1126                0                          1                0.00   \n",
      "1127                1                          5               44.76   \n",
      "\n",
      "      measured log solubility in mols per litre   \n",
      "0                                        -0.770  \\\n",
      "1                                        -3.300   \n",
      "2                                        -2.060   \n",
      "3                                        -7.870   \n",
      "4                                        -1.330   \n",
      "...                                         ...   \n",
      "1123                                     -1.710   \n",
      "1124                                      0.106   \n",
      "1125                                     -3.091   \n",
      "1126                                     -3.180   \n",
      "1127                                     -4.522   \n",
      "\n",
      "                                                 smiles  \n",
      "0     OCC3OC(OCC2OC(OC(C#N)c1ccccc1)C(O)C(O)C2O)C(O)...  \n",
      "1                                Cc1occc1C(=O)Nc2ccccc2  \n",
      "2                                  CC(C)=CCCC(C)=CC(=O)  \n",
      "3                    c1ccc2c(c1)ccc3c2ccc4c5ccccc5ccc43  \n",
      "4                                               c1ccsc1  \n",
      "...                                                 ...  \n",
      "1123                                   FC(F)(F)C(Cl)Br   \n",
      "1124                          CNC(=O)ON=C(SC)C(=O)N(C)C  \n",
      "1125                                  CCSCCSP(=S)(OC)OC  \n",
      "1126                                            CCC(C)C  \n",
      "1127              COP(=O)(OC)OC(=CCl)c1cc(Cl)c(Cl)cc1Cl  \n",
      "\n",
      "[1128 rows x 10 columns]\n"
     ]
    }
   ],
   "source": [
    "print(df)"
   ]
  },
  {
   "cell_type": "markdown",
   "id": "8976bbe5",
   "metadata": {},
   "source": [
    "We can see it has a lot of data, but its kind of hard to read due to its size. Let's print the columns to see what data is included"
   ]
  },
  {
   "cell_type": "code",
   "execution_count": 10,
   "id": "9cbe86d5",
   "metadata": {},
   "outputs": [
    {
     "name": "stdout",
     "output_type": "stream",
     "text": [
      "Index(['Compound ID', 'ESOL predicted log solubility in mols per litre',\n",
      "       'Minimum Degree', 'Molecular Weight', 'Number of H-Bond Donors',\n",
      "       'Number of Rings', 'Number of Rotatable Bonds', 'Polar Surface Area',\n",
      "       'measured log solubility in mols per litre', 'smiles'],\n",
      "      dtype='object')\n"
     ]
    }
   ],
   "source": [
    "print(df.columns)"
   ]
  },
  {
   "cell_type": "markdown",
   "id": "831ba2c2",
   "metadata": {},
   "source": [
    "We see that there are ten items, all to do with identifying and characterizing each molecule. We can print a specific column using the same notation as python dictionaries. Let's print the measured solubilities."
   ]
  },
  {
   "cell_type": "code",
   "execution_count": 3,
   "id": "f1caee67",
   "metadata": {},
   "outputs": [
    {
     "name": "stdout",
     "output_type": "stream",
     "text": [
      "0      -0.770\n",
      "1      -3.300\n",
      "2      -2.060\n",
      "3      -7.870\n",
      "4      -1.330\n",
      "        ...  \n",
      "1123   -1.710\n",
      "1124    0.106\n",
      "1125   -3.091\n",
      "1126   -3.180\n",
      "1127   -4.522\n",
      "Name: measured log solubility in mols per litre, Length: 1128, dtype: float64\n"
     ]
    }
   ],
   "source": [
    "print(df['measured log solubility in mols per litre'])"
   ]
  },
  {
   "cell_type": "markdown",
   "id": "bb30c450",
   "metadata": {},
   "source": [
    "We can sort our data frame by any of the columns we chose, not just the index. Let's sort these based on the solubilities."
   ]
  },
  {
   "cell_type": "code",
   "execution_count": 4,
   "id": "5c3b99a2",
   "metadata": {},
   "outputs": [
    {
     "name": "stdout",
     "output_type": "stream",
     "text": [
      "           Compound ID  ESOL predicted log solubility in mols per litre   \n",
      "605          Acetamide                                            0.494  \\\n",
      "146           Methanol                                            0.441   \n",
      "201   Methyl hydrazine                                            0.543   \n",
      "1064       vamidothion                                           -1.446   \n",
      "679           Glycerol                                            0.688   \n",
      "\n",
      "      Minimum Degree  Molecular Weight  Number of H-Bond Donors   \n",
      "605                1            59.068                        1  \\\n",
      "146                1            32.042                        1   \n",
      "201                1            46.073                        2   \n",
      "1064               1           287.343                        1   \n",
      "679                1            92.094                        3   \n",
      "\n",
      "      Number of Rings  Number of Rotatable Bonds  Polar Surface Area   \n",
      "605                 0                          0               43.09  \\\n",
      "146                 0                          0               20.23   \n",
      "201                 0                          0               38.05   \n",
      "1064                0                          8               64.63   \n",
      "679                 0                          2               60.69   \n",
      "\n",
      "      measured log solubility in mols per litre                        smiles  \n",
      "605                                       1.580                       CC(=O)N  \n",
      "146                                       1.570                            CO  \n",
      "201                                       1.340                           CNN  \n",
      "1064                                      1.144  CNC(=O)C(C)SCCSP(=O)(OC)(OC)  \n",
      "679                                       1.120                      OCC(O)CO  \n"
     ]
    }
   ],
   "source": [
    "print(df.sort_values('measured log solubility in mols per litre', ascending=False).head())\n"
   ]
  },
  {
   "cell_type": "markdown",
   "id": "d35095af",
   "metadata": {},
   "source": [
    "Using the `head()` command only prints the first five molecules.\n",
    "\n",
    "For columns with numerical values, we can easily compute the average value using the `mean()` command,"
   ]
  },
  {
   "cell_type": "code",
   "execution_count": 4,
   "id": "b360c1df",
   "metadata": {},
   "outputs": [
    {
     "name": "stdout",
     "output_type": "stream",
     "text": [
      "-3.05010195035461\n"
     ]
    }
   ],
   "source": [
    "print(df['measured log solubility in mols per litre'].mean())"
   ]
  },
  {
   "cell_type": "markdown",
   "id": "7dab2296",
   "metadata": {},
   "source": [
    "To add a column, we use the same notation as a python dictionary. Note that adding a column in this way sets the same value for all items. Let's add a column to track if the molecule's solubility is greater or less than the average."
   ]
  },
  {
   "cell_type": "code",
   "execution_count": 5,
   "id": "91252609",
   "metadata": {},
   "outputs": [],
   "source": [
    "# First we'll add a column, and set everything to 'low'\n",
    "\n",
    "df[\"solubility class\"] = \"low\"\n",
    "\n",
    "# Then, let's store the mean solubility\n",
    "mean_solubility = df['measured log solubility in mols per litre'].mean()"
   ]
  },
  {
   "cell_type": "markdown",
   "id": "7bfb9504",
   "metadata": {},
   "source": [
    "Now we need to change the \"low\" elements to \"high\" by compairing their solubility to the mean. To do this, we'll use the `loc` command, which locates an item (or items) based on column values. Our strategy will be to use this function to locate molecules with solubilities higher than the mean, then we'll update the label accordingly."
   ]
  },
  {
   "cell_type": "code",
   "execution_count": 6,
   "id": "e19c2454",
   "metadata": {},
   "outputs": [
    {
     "name": "stdout",
     "output_type": "stream",
     "text": [
      "  Compound ID  ESOL predicted log solubility in mols per litre   \n",
      "0   Amigdalin                                           -0.974  \\\n",
      "1    Fenfuram                                           -2.885   \n",
      "2      citral                                           -2.579   \n",
      "3      Picene                                           -6.618   \n",
      "4   Thiophene                                           -2.232   \n",
      "\n",
      "   Minimum Degree  Molecular Weight  Number of H-Bond Donors  Number of Rings   \n",
      "0               1           457.432                        7                3  \\\n",
      "1               1           201.225                        1                2   \n",
      "2               1           152.237                        0                0   \n",
      "3               2           278.354                        0                5   \n",
      "4               2            84.143                        0                1   \n",
      "\n",
      "   Number of Rotatable Bonds  Polar Surface Area   \n",
      "0                          7              202.32  \\\n",
      "1                          2               42.24   \n",
      "2                          4               17.07   \n",
      "3                          0                0.00   \n",
      "4                          0                0.00   \n",
      "\n",
      "   measured log solubility in mols per litre   \n",
      "0                                      -0.77  \\\n",
      "1                                      -3.30   \n",
      "2                                      -2.06   \n",
      "3                                      -7.87   \n",
      "4                                      -1.33   \n",
      "\n",
      "                                              smiles solubility class  \n",
      "0  OCC3OC(OCC2OC(OC(C#N)c1ccccc1)C(O)C(O)C2O)C(O)...             high  \n",
      "1                             Cc1occc1C(=O)Nc2ccccc2              low  \n",
      "2                               CC(C)=CCCC(C)=CC(=O)             high  \n",
      "3                 c1ccc2c(c1)ccc3c2ccc4c5ccccc5ccc43              low  \n",
      "4                                            c1ccsc1             high  \n"
     ]
    }
   ],
   "source": [
    "df.loc[df[\"measured log solubility in mols per litre\"] > mean_solubility, \"solubility class\"] = \"high\"\n",
    "print(df.head())"
   ]
  },
  {
   "cell_type": "markdown",
   "id": "ff39f24d",
   "metadata": {},
   "source": [
    "The `loc` command is powerful, but it can be confusing.\n",
    "\n",
    "We can easily make a scatter plot of any two columns, so that we can observe any correlations between the variables. Play around with the x and y variables. Do any of our variables appear correlated?"
   ]
  },
  {
   "cell_type": "code",
   "execution_count": 13,
   "id": "f432a70a",
   "metadata": {},
   "outputs": [
    {
     "ename": "SyntaxError",
     "evalue": "invalid syntax (3898641631.py, line 4)",
     "output_type": "error",
     "traceback": [
      "\u001b[0;36m  Cell \u001b[0;32mIn[13], line 4\u001b[0;36m\u001b[0m\n\u001b[0;31m    x_var =\u001b[0m\n\u001b[0m           ^\u001b[0m\n\u001b[0;31mSyntaxError\u001b[0m\u001b[0;31m:\u001b[0m invalid syntax\n"
     ]
    }
   ],
   "source": [
    "import matplotlib\n",
    "import matplotlib.pyplot as plt\n",
    "\n",
    "x_var =\n",
    "y_var = \n",
    "\n",
    "plt.plot(x_var, y_var, marker='.',linestyle='')"
   ]
  },
  {
   "cell_type": "markdown",
   "id": "8774a2d4",
   "metadata": {},
   "source": [
    "To end this notebook, we're going to do a little data mining. I'll ask a few questions about the dataset, and use the cell below to find and print an answer."
   ]
  },
  {
   "cell_type": "markdown",
   "id": "0aff6d23",
   "metadata": {},
   "source": [
    "1. How many molecules in our set have more than zero H-bond donors?"
   ]
  },
  {
   "cell_type": "code",
   "execution_count": null,
   "id": "9ca0f152",
   "metadata": {},
   "outputs": [],
   "source": []
  },
  {
   "cell_type": "markdown",
   "id": "7bdd31b8",
   "metadata": {},
   "source": [
    "2. Of this set, how many have above-average solubility? How many have below-average solubility? Does this result make sense to you?"
   ]
  },
  {
   "cell_type": "code",
   "execution_count": null,
   "id": "d6434095",
   "metadata": {},
   "outputs": [],
   "source": []
  },
  {
   "cell_type": "markdown",
   "id": "d238332e",
   "metadata": {},
   "source": [
    "3. What is the average polar surface area? How many molecules have above- and below- average polar surface area?"
   ]
  },
  {
   "cell_type": "code",
   "execution_count": null,
   "id": "ff902fce",
   "metadata": {},
   "outputs": [],
   "source": []
  },
  {
   "cell_type": "markdown",
   "id": "5350ce8e",
   "metadata": {},
   "source": [
    "4. What percentage of the molecules with above-average polar surface area also have above average solubility?"
   ]
  },
  {
   "cell_type": "code",
   "execution_count": null,
   "id": "3aec189a",
   "metadata": {},
   "outputs": [],
   "source": []
  }
 ],
 "metadata": {
  "kernelspec": {
   "display_name": "Python 3 (ipykernel)",
   "language": "python",
   "name": "python3"
  },
  "language_info": {
   "codemirror_mode": {
    "name": "ipython",
    "version": 3
   },
   "file_extension": ".py",
   "mimetype": "text/x-python",
   "name": "python",
   "nbconvert_exporter": "python",
   "pygments_lexer": "ipython3",
   "version": "3.10.11"
  }
 },
 "nbformat": 4,
 "nbformat_minor": 5
}

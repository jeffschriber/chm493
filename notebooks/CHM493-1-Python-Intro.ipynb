{
 "cells": [
  {
   "cell_type": "markdown",
   "id": "eb0f59cc",
   "metadata": {},
   "source": [
    "# Introduction to Python and Jupyter\n",
    "\n",
    "Welcome to CHM 493, A.I. in Chemistry! \n",
    "\n",
    "This course will cover diverse topics related to the increasing presence of data-driven techniques in chemistry and biochemistry. The best way to become fully immersed in these topics is to run, write, and analyze our own models of chemical phenomena, which requires some practice with programming.\n",
    "\n",
    "\n",
    "I'll do my best to provide as much help as possible with programming, and that starts with this notebook. Many of your assignments will be encapsulated in these jupyter notebooks. A jupyter notebook is a flexible programming environment that lets you write and run python code, in addition to write written responses to conceptial questions. We will also be able to run scientific software and look at molecules, proteins, etc. all within these notebooks. This first notebook is designed to introduce/refresh what I view are the most important parts of Python to know, ending with an assignment to practice these tools. The assignment also is designed to get you all thinking about numerical models, which we'll apply to chemical problems soon enough.   \n",
    "\n",
    "For all assignments **the first thing you need to do is go to File->Make a Copy.** Then rename the copy to include your initials. To submit your work, you'll need to upload both the .ipynb file and a pdf of the notebook."
   ]
  },
  {
   "cell_type": "markdown",
   "id": "34c8c4e3",
   "metadata": {},
   "source": [
    "## Using Jupter"
   ]
  },
  {
   "cell_type": "markdown",
   "id": "3966eb0b",
   "metadata": {},
   "source": [
    "Jupyter notebooks are composed of cells. Cells can have types, but we'll only use the Markdown and Code types. You can see the type of cell at the toolbar at the top. Markdown cells contain text (this cell is markdown), and Code cells contain python code. To execute any cell, use the `SHIFT+ENTER`\n",
    "command. "
   ]
  },
  {
   "cell_type": "markdown",
   "id": "5ad1adf5",
   "metadata": {},
   "source": [
    "The cell below is Markdown, execute it to turn the text into print (make sure you've clicked the cell to make it the active cell). You may add any text you like, and double-click the cell to re-edit after you've executed it."
   ]
  },
  {
   "cell_type": "markdown",
   "id": "09c9ea5e",
   "metadata": {},
   "source": [
    "I'm a markdown cell! Feel free to edit me!"
   ]
  },
  {
   "cell_type": "markdown",
   "id": "539992b8",
   "metadata": {},
   "source": [
    "The cell below is python code, execute it to see the results"
   ]
  },
  {
   "cell_type": "code",
   "execution_count": null,
   "id": "4694840c",
   "metadata": {
    "scrolled": true
   },
   "outputs": [],
   "source": [
    "print(\"Hello World\")\n",
    "\n",
    "result = 1 + 1\n",
    "print(\"1 + 1 =\", result)"
   ]
  },
  {
   "cell_type": "markdown",
   "id": "ab2b47c6",
   "metadata": {},
   "source": [
    "To save your progress, which you should do frequently, simply type `CTRL+s`. You will see the last checkpoint time update at the top of the browser.\n",
    "\n",
    "Lastly, python is a language that uses many external libraries, which need to be imported. If you've run python in the past, you'll remember some `import` expressions at the top of your scripts. Here, we need to execute a cell with our imports, and we're good to go for the whole notebook.\n",
    "\n",
    "Let's import numpy, which has a lot of very useful mathematical operations with numbers and arrays."
   ]
  },
  {
   "cell_type": "code",
   "execution_count": null,
   "id": "e13fe135",
   "metadata": {},
   "outputs": [],
   "source": [
    "import numpy as np"
   ]
  },
  {
   "cell_type": "markdown",
   "id": "677f01dd",
   "metadata": {},
   "source": [
    "What follows is a very quick walkthrough of some basic python functionality. Go through the sections, runnning all code cells, and editing them with your own lines just to get practice. I want you to be comfortable with this content, but by no means are you expected to be experts in python (I'm not). My best programming advice is to use Google and StackOverflow frequently. If there's something you don't know how to do (like, how do I evaluate $e^\\pi$?), there's almost certainly an answer online."
   ]
  },
  {
   "cell_type": "markdown",
   "id": "c71aab67",
   "metadata": {},
   "source": [
    "## Variables, Types, and Printing\n",
    "\n",
    "Now we'll get to some Python basics. \n",
    "\n",
    "Variables are used to store values. They have different types depending on the assignment. Execute the cell below"
   ]
  },
  {
   "cell_type": "code",
   "execution_count": null,
   "id": "33481ae5",
   "metadata": {},
   "outputs": [],
   "source": [
    "# these are integers\n",
    "int1 = 1\n",
    "int2 = 5\n",
    "\n",
    "# these are floats\n",
    "f1 = 1.334\n",
    "f2 = 0.93\n",
    "\n",
    "# these are strings, they can have any text, or they can be empty\n",
    "s1 = \"hello\"\n",
    "s2 = \"\"\n",
    "# even if a string looks like a number, its still a string and not a float\n",
    "s3 = \"4.4\""
   ]
  },
  {
   "cell_type": "markdown",
   "id": "db5453d9",
   "metadata": {},
   "source": [
    "The value of variables is that we can reuse them, even in different cells. To print a variable (or anything) use the `print()` function."
   ]
  },
  {
   "cell_type": "code",
   "execution_count": null,
   "id": "50c77bc2",
   "metadata": {},
   "outputs": [],
   "source": [
    "# We can print the ints on separate lines\n",
    "print(int1)\n",
    "print(int2)\n",
    "\n",
    "# or on the same line by separating with commas\n",
    "print(int1,int2)\n",
    "\n",
    "# we can even mix types here\n",
    "print(int1, f1, s1)\n",
    "\n",
    "# we can also print things that aren't even stored as variables\n",
    "print(\"The current year is\", 2023)"
   ]
  },
  {
   "cell_type": "markdown",
   "id": "18c16a77",
   "metadata": {},
   "source": [
    "## Mathematical Operations\n",
    "\n",
    "Python supports many types of operations, whether they are numerical, comparative, or assigned.\n",
    "\n",
    "Here are just a few numerical operations:"
   ]
  },
  {
   "cell_type": "code",
   "execution_count": null,
   "id": "b27fcb98",
   "metadata": {},
   "outputs": [],
   "source": [
    "# adding\n",
    "result = 1 + 1\n",
    "print(result)\n",
    "\n",
    "# subtraction\n",
    "result = 100-230\n",
    "print(result)\n",
    "\n",
    "# multiplication\n",
    "result = 3.3 * 12.0001\n",
    "print(result)\n",
    "\n",
    "# division\n",
    "result = 3123/3415234.1\n",
    "print(result)\n",
    "\n",
    "# power\n",
    "result = 2.1**(4.2)\n",
    "print(result)\n",
    "\n",
    "#logarithm: here we'll use a special library\n",
    "result = np.log(32)\n",
    "print(result)"
   ]
  },
  {
   "cell_type": "markdown",
   "id": "49cf7643",
   "metadata": {},
   "source": [
    "As you can see, arithmetic in python is a lot like using a calculator."
   ]
  },
  {
   "cell_type": "markdown",
   "id": "067cb5ad",
   "metadata": {},
   "source": [
    "In the cell below, calculate the square root of 2 using two different methods. You may want to search online for a way to do one of them."
   ]
  },
  {
   "cell_type": "code",
   "execution_count": null,
   "id": "df176d35",
   "metadata": {},
   "outputs": [],
   "source": []
  },
  {
   "cell_type": "markdown",
   "id": "f4c6b94f",
   "metadata": {},
   "source": [
    "## Lists, Dictionaries, and NumPy arrays"
   ]
  },
  {
   "cell_type": "markdown",
   "id": "d0694d94",
   "metadata": {},
   "source": [
    "### Lists\n",
    "\n",
    "We are familiar with the idea that we can store values as variables. These variables can have types, like string, int, or float. More advanced objects in python allow us to group and organize these simpler types.\n",
    "\n",
    "A list is simply a list of items, whose order of elements matters, formatted in the following way:"
   ]
  },
  {
   "cell_type": "code",
   "execution_count": null,
   "id": "79f48cd8",
   "metadata": {},
   "outputs": [],
   "source": [
    "# Here is a list of strings\n",
    "fruit = ['apple', 'banana', 'tomato']\n",
    "\n",
    "# We can make a list of numbers as well,\n",
    "numbers = [2, 4, 56]\n",
    "\n",
    "# print the lists\n"
   ]
  },
  {
   "cell_type": "markdown",
   "id": "fd6f9e4c",
   "metadata": {},
   "source": [
    "We can add to a list in a few ways, we can append to the end of it,"
   ]
  },
  {
   "cell_type": "code",
   "execution_count": null,
   "id": "28372d60",
   "metadata": {},
   "outputs": [],
   "source": [
    "fruit.append('orange')\n",
    "\n",
    "# print the appended list"
   ]
  },
  {
   "cell_type": "markdown",
   "id": "7b5485cc",
   "metadata": {},
   "source": [
    "We can also insert an item using an index (remember, indexing always starts at zero)."
   ]
  },
  {
   "cell_type": "code",
   "execution_count": null,
   "id": "817c9a9c",
   "metadata": {},
   "outputs": [],
   "source": [
    "numbers.insert(2, 12)\n",
    "\n",
    "print(numbers)"
   ]
  },
  {
   "cell_type": "markdown",
   "id": "787273e2",
   "metadata": {},
   "source": [
    "Square brackets are used to access a particular element of the list. For example,"
   ]
  },
  {
   "cell_type": "code",
   "execution_count": null,
   "id": "37eea322",
   "metadata": {},
   "outputs": [],
   "source": [
    "a_fruit = fruit[1]"
   ]
  },
  {
   "cell_type": "markdown",
   "id": "b467e8f0",
   "metadata": {},
   "source": [
    "Conveniently, we can also access elements from the back, by using a negative sign,"
   ]
  },
  {
   "cell_type": "code",
   "execution_count": null,
   "id": "9f5735a6",
   "metadata": {},
   "outputs": [],
   "source": [
    "last_fruit = fruit[-1]\n",
    "\n",
    "print(a_fruit, last_fruit)"
   ]
  },
  {
   "cell_type": "markdown",
   "id": "159a0ea1",
   "metadata": {},
   "source": [
    "A more advanced version of indexing is called *slicing* where we can get a new list from a subset of a larger list. Suppose we want to get the first two elements:"
   ]
  },
  {
   "cell_type": "code",
   "execution_count": null,
   "id": "ea7e9c68",
   "metadata": {},
   "outputs": [],
   "source": [
    "sliced_fruit = fruit[:2]"
   ]
  },
  {
   "cell_type": "markdown",
   "id": "57efe615",
   "metadata": {},
   "source": [
    "or the middle two,"
   ]
  },
  {
   "cell_type": "code",
   "execution_count": null,
   "id": "e24e6194",
   "metadata": {},
   "outputs": [],
   "source": [
    "sliced_fruit_2 = fruit[1:3]\n",
    "print(sliced_fruit_2)"
   ]
  },
  {
   "cell_type": "markdown",
   "id": "86904528",
   "metadata": {},
   "source": [
    "In the cell below, add two fruit to the list, one at the beginning and one at the end. Then, print a slice of the list with the last three elements."
   ]
  },
  {
   "cell_type": "code",
   "execution_count": null,
   "id": "a50cac49",
   "metadata": {},
   "outputs": [],
   "source": []
  },
  {
   "cell_type": "markdown",
   "id": "3aeec275",
   "metadata": {},
   "source": [
    "### Dictionaries\n",
    "\n",
    "Dictionaries are one of the most useful tools in python. It is similar to a list in that it is a collection of elements, but rather than being ordered with numerical indices, they come in key-value pairs. The keys are typically strings. This provides a very convenient way to store a set of labelled data, where the labels are the keys and the data are the values."
   ]
  },
  {
   "cell_type": "markdown",
   "id": "fd78da7f",
   "metadata": {},
   "source": [
    "We can initialize an empty dictionary using curly braces. We'll use this dictionary to store chemical information about a particular molecule."
   ]
  },
  {
   "cell_type": "code",
   "execution_count": null,
   "id": "5528d1e8",
   "metadata": {},
   "outputs": [],
   "source": [
    "benzene_info = {}"
   ]
  },
  {
   "cell_type": "markdown",
   "id": "a46e6856",
   "metadata": {},
   "source": [
    "Let's populate this dictionary with some information. This can by done by redefining the object, or by addinge key/value pairs one at a time."
   ]
  },
  {
   "cell_type": "code",
   "execution_count": null,
   "id": "ebcc9e51",
   "metadata": {},
   "outputs": [],
   "source": [
    "# here we redefine the dictionary, but this time with some values\n",
    "benzene_info = {'name': 'benzene', 'molar_mass':78.114, 'SMILES':'c1ccccc1', 'LD50': 930}\n",
    "\n",
    "# We can also add them one at a time\n",
    "benzene_info['melting_point'] = 5.53\n",
    "\n",
    "#print the dictionary below\n"
   ]
  },
  {
   "cell_type": "markdown",
   "id": "35486981",
   "metadata": {},
   "source": [
    "Similar to a list, we can print an item in the dictionary using the key. In the cell below, print the molar mass of benzene using the dictionary."
   ]
  },
  {
   "cell_type": "code",
   "execution_count": null,
   "id": "a3b68c65",
   "metadata": {},
   "outputs": [],
   "source": []
  },
  {
   "cell_type": "markdown",
   "id": "36a93c6e",
   "metadata": {},
   "source": [
    "Notice that the types of the values can vary."
   ]
  },
  {
   "cell_type": "markdown",
   "id": "a7f877ba",
   "metadata": {},
   "source": [
    "### Numpy Arrays\n",
    "\n",
    "Numpy is an external library that we'll basically always want to use. For our purposes, numpy arrays are lists of numbers that are amenable for efficient mathematical manipulation. They can be 1-dimensional (vectors), 2-dimensional (matrices), or of general rank.\n",
    "\n",
    "Numpy arrays come with a lot of automated functions that let us do operations like dot products, norms, and even more advanced numerical algorithms like diagonalization and SVD.\n",
    "\n",
    "If we have the values we want, we can make a numpy array:"
   ]
  },
  {
   "cell_type": "code",
   "execution_count": null,
   "id": "153f6b79",
   "metadata": {},
   "outputs": [],
   "source": [
    "a = np.array([1,2,3])\n",
    "print(a)"
   ]
  },
  {
   "cell_type": "markdown",
   "id": "f993c41c",
   "metadata": {},
   "source": [
    "Or we can make an array from an existing list,"
   ]
  },
  {
   "cell_type": "code",
   "execution_count": null,
   "id": "2c365e0c",
   "metadata": {},
   "outputs": [],
   "source": [
    "# let's make a numpy array from our earlier example\n",
    "a2 = np.asarray(numbers)\n",
    "print(a2)"
   ]
  },
  {
   "cell_type": "markdown",
   "id": "5a0710da",
   "metadata": {},
   "source": [
    "Since these arrays have the same length, we can play with adding and subtracting them,"
   ]
  },
  {
   "cell_type": "code",
   "execution_count": null,
   "id": "d86b1b82",
   "metadata": {},
   "outputs": [],
   "source": [
    "# verify that these give the same result\n",
    "print(a2 + a2)\n",
    "print(np.add(a2,a2))"
   ]
  },
  {
   "cell_type": "markdown",
   "id": "423c97d1",
   "metadata": {},
   "source": [
    "We can also compute the dot product,"
   ]
  },
  {
   "cell_type": "code",
   "execution_count": null,
   "id": "3033a328",
   "metadata": {},
   "outputs": [],
   "source": [
    "print(np.dot(a,a2))"
   ]
  },
  {
   "cell_type": "markdown",
   "id": "adcd8983",
   "metadata": {},
   "source": [
    "Now I'll introduce two convenient functions for creating arrays. The first is the `zero` function, which creates an array of specified dimension, filled with zeros."
   ]
  },
  {
   "cell_type": "code",
   "execution_count": null,
   "id": "25a39eba",
   "metadata": {},
   "outputs": [],
   "source": [
    "# Make a rank 1 array with 10 zeroed elements\n",
    "zarray = np.zeros(10)\n",
    "print(zarray)"
   ]
  },
  {
   "cell_type": "markdown",
   "id": "63ee2d08",
   "metadata": {},
   "source": [
    "The next function in `linspace`, which creates an array of numbers with a specified minimum, maximum, and number of elements. For example, to get an array with five equally spaced numbers between 2 and 3, we'd use:"
   ]
  },
  {
   "cell_type": "code",
   "execution_count": null,
   "id": "8e2cec52",
   "metadata": {},
   "outputs": [],
   "source": [
    "larray = np.linspace(2,3,5)\n",
    "print(larray)"
   ]
  },
  {
   "cell_type": "markdown",
   "id": "f509e0ae",
   "metadata": {},
   "source": [
    "In the cell below create a numpy array with consecutive integers from 0 to 100. Print the result."
   ]
  },
  {
   "cell_type": "code",
   "execution_count": null,
   "id": "615494de",
   "metadata": {},
   "outputs": [],
   "source": []
  },
  {
   "cell_type": "markdown",
   "id": "8a491649",
   "metadata": {},
   "source": [
    "Now, add the first 50 elements of this array to the last 50 elements, and store the result in a new array."
   ]
  },
  {
   "cell_type": "code",
   "execution_count": null,
   "id": "787c10be",
   "metadata": {},
   "outputs": [],
   "source": []
  },
  {
   "cell_type": "markdown",
   "id": "a8c42a15",
   "metadata": {},
   "source": [
    "## Conditional Statements and Loops\n",
    "\n",
    "Conditional statements allow you to control the sequence and/or logic of a set of operations.\n",
    "\n",
    "Here's a numerical example:"
   ]
  },
  {
   "cell_type": "code",
   "execution_count": null,
   "id": "438fe112",
   "metadata": {},
   "outputs": [],
   "source": [
    "x = 2.5\n",
    "\n",
    "if x < 4:\n",
    "    print('x is less than 4')\n",
    "else:\n",
    "    print('x is greather than or equal to 4')"
   ]
  },
  {
   "cell_type": "markdown",
   "id": "06bb5b8d",
   "metadata": {},
   "source": [
    "You can also use `if` statements to compare strings, or to see if an element of a list or dictionary exists:"
   ]
  },
  {
   "cell_type": "code",
   "execution_count": null,
   "id": "69981798",
   "metadata": {},
   "outputs": [],
   "source": [
    "if 'apple' in fruit:\n",
    "    print('apple is in fruit')\n",
    "    \n",
    "if 'kiwi' in fruit:\n",
    "    print('kiwi is in fruit')\n",
    "else:\n",
    "    fruit.append('kiwi')"
   ]
  },
  {
   "cell_type": "markdown",
   "id": "29e5f4d6",
   "metadata": {},
   "source": [
    "Loops allow us to iterate over numbers, elements in a list, or key/value pairs in a dictionary. They are also useful to repeat blocks of code as needed. We will use them a lot."
   ]
  },
  {
   "cell_type": "code",
   "execution_count": null,
   "id": "26dcaf4c",
   "metadata": {},
   "outputs": [],
   "source": [
    "# We can loop over items in a list:\n",
    "for f in fruit:\n",
    "    print(f)\n",
    "    \n",
    "# We can also loop through a dictionary\n",
    "for key, value in benzene_info.items():\n",
    "    print(key, value)\n",
    "    "
   ]
  },
  {
   "cell_type": "markdown",
   "id": "76a710a0",
   "metadata": {},
   "source": [
    "In the cell below, use a `for` loop to calculate the norm of your vector from the previous section (the one where you added the two parts together.\n",
    "\n",
    "Then, use a numpy function to verify your result."
   ]
  },
  {
   "cell_type": "code",
   "execution_count": null,
   "id": "5fb00b19",
   "metadata": {},
   "outputs": [],
   "source": []
  },
  {
   "cell_type": "code",
   "execution_count": null,
   "id": "28f3069a",
   "metadata": {},
   "outputs": [],
   "source": []
  },
  {
   "cell_type": "markdown",
   "id": "ea2b7d53",
   "metadata": {},
   "source": [
    "## Functions\n",
    "\n",
    "Functions are used for when you need to perform a task multiple times. You can pass a function parameters, and the function will act on the variables, and optionally return a value. The variables themselves are not changed.\n",
    "\n",
    "Here's a simple (and contrived) example of an adding function:"
   ]
  },
  {
   "cell_type": "code",
   "execution_count": null,
   "id": "761d8a0d",
   "metadata": {},
   "outputs": [],
   "source": [
    "def add_two_numbers(n1, n2):\n",
    "    return n1 + n2\n",
    "\n",
    "result = add_two_numbers(4,np.pi)\n",
    "print(result)"
   ]
  },
  {
   "cell_type": "markdown",
   "id": "a15f7d8e",
   "metadata": {},
   "source": [
    "Suppose we want to find the distance between two points, maybe they represent the location of atoms in a molecule. In the cell below, write a function to calculate the distance between two points, and make your code flexible enough to work for 1-, 2-, and 3-, coordinate systems."
   ]
  },
  {
   "cell_type": "code",
   "execution_count": null,
   "id": "a86d8657",
   "metadata": {},
   "outputs": [],
   "source": []
  },
  {
   "cell_type": "code",
   "execution_count": null,
   "id": "0379669b",
   "metadata": {},
   "outputs": [],
   "source": [
    "# test your function with these inputs:\n",
    "point1 = [2.1]\n",
    "point2 = [7.55]\n",
    "\n",
    "point1 = [4.66, 14.90]\n",
    "point2 = [20.02, 15.11]\n",
    "\n",
    "\n",
    "point1 = [70.1,22.1,3.0]\n",
    "point2 = [200.11, 30.33, 78.9]"
   ]
  },
  {
   "cell_type": "markdown",
   "id": "4f9c64fe",
   "metadata": {},
   "source": [
    "## Assignment\n",
    "\n",
    "Throughout this course, we will be writing python functions to perform a variety of tasks related to building machine learning models. Before we get to that, let's practice writing functions to perform a simple mathematical task, estimating $\\pi$ with a numerical method.\n",
    "\n",
    "Your assignment is to write a numerical algorithm to calculate $\\pi$. Consider a 1x1 box with a circle inscribed,\n",
    "\n",
    "![alternative text](images/Circle-inscribed-in-a-square.jpg)\n",
    "\n",
    "where we can imagine it existing on an $xy$-plane with the bottom left corner at (0,0) and the top right point at (1,1). Assuming the radius of the circle is $r$, which in our example is 0.5, we can calculate $\\pi$ using the areas of the square and circle,\n",
    "\n",
    "$$\\frac{\\rm{area~of~circle}}{\\rm{area~of~square}} = \\frac{\\pi r^2}{(2r)^2}$$\n",
    "\n",
    "which rearranges to,\n",
    "$$\\pi = 4*\\frac{\\rm{area~of~circle}}{\\rm{area~of~square}} $$\n"
   ]
  },
  {
   "cell_type": "markdown",
   "id": "7be0a092",
   "metadata": {},
   "source": [
    "So how to we get these areas without already using $\\pi$? This is the part we will do numerically. We can calculate the ratio of areas in a clever way:\n",
    "\n",
    " 1) First choose a number of random points to generate.\n",
    " 2) For each of these points, generate a random (x,y) point within our square (what are limits of x and y?).\n",
    " 3) Count how many of those random points also lie within the circle, let's call these 'hits'.\n",
    " 4) The ratio of areas is then just the number of hits divided by the total number of random points.\n",
    " \n",
    " \n",
    " **For your assignment, use the cell below to write a function to estimate the value of $\\pi$ given a maximum number of random points. Then, briefly answer the questions that follow.**"
   ]
  },
  {
   "cell_type": "code",
   "execution_count": null,
   "id": "1415e340",
   "metadata": {},
   "outputs": [],
   "source": [
    "## Your code will go in this cell. I'll help get you started\n",
    "\n",
    "## First we need to import a library that calculates random numbers for us\n",
    "import random\n",
    "\n",
    "## Let's define a function for this, we'll want to be able to toggle the number of random points\n",
    "def compute_pi(max_points):\n",
    "    \n",
    "    # 1) We'll need to store the number of hits, let's start at zero\n",
    "    #    and increment it by one whenever we get a hit\n",
    "    nhits = 0\n",
    "    \n",
    "    # 2) Now we need to see how many hits we get out of max_points \n",
    "    \n",
    "    \n",
    "    # 3) Once we have nhits finalized, calculate and return pi\n",
    "    \n",
    "    \n",
    "# With the above function completed, test it here"
   ]
  },
  {
   "cell_type": "markdown",
   "id": "ab68ce54",
   "metadata": {},
   "source": [
    "1. Use your function to estimate $\\pi$ using 5, 10, 100, 1,000, 100,000, and 1,000,000 points. Report the error for each run with respect to the exact value."
   ]
  },
  {
   "cell_type": "code",
   "execution_count": null,
   "id": "8342094c",
   "metadata": {},
   "outputs": [],
   "source": []
  },
  {
   "cell_type": "markdown",
   "id": "36dc2650",
   "metadata": {},
   "source": []
  },
  {
   "cell_type": "markdown",
   "id": "b8d18201",
   "metadata": {},
   "source": [
    "2. Does $\\pi$ seem to converge to the correct value quickly or slowly? Run any additional calculations you'd like, but I'm only looking for a qualitative answer."
   ]
  },
  {
   "cell_type": "markdown",
   "id": "110d2ef3",
   "metadata": {},
   "source": []
  },
  {
   "cell_type": "markdown",
   "id": "693aeb91",
   "metadata": {},
   "source": [
    "3. Run your function five times, with 100, 1,000, 100,000, and 1,000,000 points for each set of trials. For each number of max points, does the estimated value of $\\pi$ change significantly (give the order of magnitude where you see changes)? How does this random error change with the number of max points?"
   ]
  },
  {
   "cell_type": "markdown",
   "id": "a30550eb",
   "metadata": {},
   "source": []
  },
  {
   "cell_type": "markdown",
   "id": "8990c67d",
   "metadata": {},
   "source": [
    "4. A major topic of this course centers on evaluating the performance of A.I. models of chemical phenomena. Does our model of $\\pi$ seem to be effective, and how should we define effectiveness? Suggest a possible improvement (not to the equations, just the algorithm itself) to our model."
   ]
  },
  {
   "cell_type": "markdown",
   "id": "fe6f2258",
   "metadata": {},
   "source": []
  },
  {
   "cell_type": "markdown",
   "id": "14577ae2",
   "metadata": {},
   "source": [
    "Bouns: Write a new function to estimate pi that does not generate data from random numbers. Does this function perform better or worse than the stochastic one? Use data to support your claims."
   ]
  },
  {
   "cell_type": "code",
   "execution_count": null,
   "id": "f8ff79e2",
   "metadata": {},
   "outputs": [],
   "source": []
  }
 ],
 "metadata": {
  "kernelspec": {
   "display_name": "Python 3 (ipykernel)",
   "language": "python",
   "name": "python3"
  },
  "language_info": {
   "codemirror_mode": {
    "name": "ipython",
    "version": 3
   },
   "file_extension": ".py",
   "mimetype": "text/x-python",
   "name": "python",
   "nbconvert_exporter": "python",
   "pygments_lexer": "ipython3",
   "version": "3.9.12"
  }
 },
 "nbformat": 4,
 "nbformat_minor": 5
}
